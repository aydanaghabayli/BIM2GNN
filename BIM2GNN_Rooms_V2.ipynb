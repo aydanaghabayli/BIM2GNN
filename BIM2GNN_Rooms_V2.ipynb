{
  "nbformat": 4,
  "nbformat_minor": 0,
  "metadata": {
    "colab": {
      "name": "BIM2GNN_Rooms_V2",
      "provenance": [],
      "authorship_tag": "ABX9TyNQ5B8Vf+BZ9RksXqVZ9d2V",
      "include_colab_link": true
    },
    "kernelspec": {
      "name": "python3",
      "display_name": "Python 3"
    },
    "language_info": {
      "name": "python"
    }
  },
  "cells": [
    {
      "cell_type": "markdown",
      "metadata": {
        "id": "view-in-github",
        "colab_type": "text"
      },
      "source": [
        "<a href=\"https://colab.research.google.com/github/aydanaghabayli/BIM2GNN/blob/main/BIM2GNN_Rooms_V2.ipynb\" target=\"_parent\"><img src=\"https://colab.research.google.com/assets/colab-badge.svg\" alt=\"Open In Colab\"/></a>"
      ]
    },
    {
      "cell_type": "code",
      "metadata": {
        "id": "ybhDnWtozw0g"
      },
      "source": [
        "import os\n",
        "import pandas as pd\n",
        "import seaborn as sns\n",
        "import matplotlib.pyplot as plt\n",
        "import re"
      ],
      "execution_count": null,
      "outputs": []
    },
    {
      "cell_type": "code",
      "metadata": {
        "id": "y_JvzEVhz0KH"
      },
      "source": [
        "%matplotlib inline"
      ],
      "execution_count": null,
      "outputs": []
    },
    {
      "cell_type": "code",
      "metadata": {
        "colab": {
          "base_uri": "https://localhost:8080/"
        },
        "id": "p1gKK3cYz18-",
        "outputId": "5144aa7f-8a14-47ee-8e29-562947b6bf88"
      },
      "source": [
        "from google.colab import drive\n",
        "drive.mount('/content/gdrive')"
      ],
      "execution_count": null,
      "outputs": [
        {
          "output_type": "stream",
          "name": "stdout",
          "text": [
            "Mounted at /content/gdrive\n"
          ]
        }
      ]
    },
    {
      "cell_type": "code",
      "metadata": {
        "id": "QhYIM7aKz3-P"
      },
      "source": [
        "os.chdir(\"/content/gdrive/My Drive/WorkingFiles\")"
      ],
      "execution_count": null,
      "outputs": []
    },
    {
      "cell_type": "code",
      "metadata": {
        "id": "qjssxBtJz7lk"
      },
      "source": [
        "#importing raw .csv data\n",
        "\n",
        "room_data_0 = pd.read_csv(\"RoomSchedule4_V2.csv\", header=1)\n",
        "room_data_1 = pd.read_csv(\"RoomSchedule3_V2.csv\", header=1)\n",
        "room_data_2 = pd.read_csv(\"RoomSchedule5_V2.csv\", header=1)"
      ],
      "execution_count": null,
      "outputs": []
    },
    {
      "cell_type": "code",
      "metadata": {
        "colab": {
          "base_uri": "https://localhost:8080/",
          "height": 418
        },
        "id": "8EjnXBvcZEXw",
        "outputId": "7413f8ea-3247-43ea-bda2-5c3f2abccb74"
      },
      "source": [
        "room_data_0"
      ],
      "execution_count": null,
      "outputs": [
        {
          "output_type": "execute_result",
          "data": {
            "text/html": [
              "<div>\n",
              "<style scoped>\n",
              "    .dataframe tbody tr th:only-of-type {\n",
              "        vertical-align: middle;\n",
              "    }\n",
              "\n",
              "    .dataframe tbody tr th {\n",
              "        vertical-align: top;\n",
              "    }\n",
              "\n",
              "    .dataframe thead th {\n",
              "        text-align: right;\n",
              "    }\n",
              "</style>\n",
              "<table border=\"1\" class=\"dataframe\">\n",
              "  <thead>\n",
              "    <tr style=\"text-align: right;\">\n",
              "      <th></th>\n",
              "      <th>Area</th>\n",
              "      <th>Number</th>\n",
              "      <th>Name</th>\n",
              "    </tr>\n",
              "  </thead>\n",
              "  <tbody>\n",
              "    <tr>\n",
              "      <th>0</th>\n",
              "      <td>NaN</td>\n",
              "      <td>NaN</td>\n",
              "      <td>NaN</td>\n",
              "    </tr>\n",
              "    <tr>\n",
              "      <th>1</th>\n",
              "      <td>10 m²</td>\n",
              "      <td>1027.0</td>\n",
              "      <td>Group 255 KIT</td>\n",
              "    </tr>\n",
              "    <tr>\n",
              "      <th>2</th>\n",
              "      <td>13 m²</td>\n",
              "      <td>1028.0</td>\n",
              "      <td>Group 255 NB1</td>\n",
              "    </tr>\n",
              "    <tr>\n",
              "      <th>3</th>\n",
              "      <td>7 m²</td>\n",
              "      <td>1029.0</td>\n",
              "      <td>Group 255 LVR</td>\n",
              "    </tr>\n",
              "    <tr>\n",
              "      <th>4</th>\n",
              "      <td>6 m²</td>\n",
              "      <td>1030.0</td>\n",
              "      <td>Group 255 WC</td>\n",
              "    </tr>\n",
              "    <tr>\n",
              "      <th>...</th>\n",
              "      <td>...</td>\n",
              "      <td>...</td>\n",
              "      <td>...</td>\n",
              "    </tr>\n",
              "    <tr>\n",
              "      <th>1020</th>\n",
              "      <td>8 m²</td>\n",
              "      <td>2046.0</td>\n",
              "      <td>Group 1 LVR</td>\n",
              "    </tr>\n",
              "    <tr>\n",
              "      <th>1021</th>\n",
              "      <td>12 m²</td>\n",
              "      <td>2047.0</td>\n",
              "      <td>Group 0 NB1</td>\n",
              "    </tr>\n",
              "    <tr>\n",
              "      <th>1022</th>\n",
              "      <td>9 m²</td>\n",
              "      <td>2048.0</td>\n",
              "      <td>Group 0 KIT</td>\n",
              "    </tr>\n",
              "    <tr>\n",
              "      <th>1023</th>\n",
              "      <td>7 m²</td>\n",
              "      <td>2049.0</td>\n",
              "      <td>Group 0 LVR</td>\n",
              "    </tr>\n",
              "    <tr>\n",
              "      <th>1024</th>\n",
              "      <td>7 m²</td>\n",
              "      <td>2050.0</td>\n",
              "      <td>Group 0 WC</td>\n",
              "    </tr>\n",
              "  </tbody>\n",
              "</table>\n",
              "<p>1025 rows × 3 columns</p>\n",
              "</div>"
            ],
            "text/plain": [
              "       Area  Number           Name\n",
              "0       NaN     NaN            NaN\n",
              "1     10 m²  1027.0  Group 255 KIT\n",
              "2     13 m²  1028.0  Group 255 NB1\n",
              "3      7 m²  1029.0  Group 255 LVR\n",
              "4      6 m²  1030.0   Group 255 WC\n",
              "...     ...     ...            ...\n",
              "1020   8 m²  2046.0    Group 1 LVR\n",
              "1021  12 m²  2047.0    Group 0 NB1\n",
              "1022   9 m²  2048.0    Group 0 KIT\n",
              "1023   7 m²  2049.0    Group 0 LVR\n",
              "1024   7 m²  2050.0     Group 0 WC\n",
              "\n",
              "[1025 rows x 3 columns]"
            ]
          },
          "metadata": {},
          "execution_count": 8
        }
      ]
    },
    {
      "cell_type": "code",
      "metadata": {
        "id": "snjiCbc-ZgMn",
        "colab": {
          "base_uri": "https://localhost:8080/",
          "height": 418
        },
        "outputId": "587452e7-c578-4129-e47b-b68c4bfb9a7a"
      },
      "source": [
        "room_data_1"
      ],
      "execution_count": null,
      "outputs": [
        {
          "output_type": "execute_result",
          "data": {
            "text/html": [
              "<div>\n",
              "<style scoped>\n",
              "    .dataframe tbody tr th:only-of-type {\n",
              "        vertical-align: middle;\n",
              "    }\n",
              "\n",
              "    .dataframe tbody tr th {\n",
              "        vertical-align: top;\n",
              "    }\n",
              "\n",
              "    .dataframe thead th {\n",
              "        text-align: right;\n",
              "    }\n",
              "</style>\n",
              "<table border=\"1\" class=\"dataframe\">\n",
              "  <thead>\n",
              "    <tr style=\"text-align: right;\">\n",
              "      <th></th>\n",
              "      <th>Area</th>\n",
              "      <th>Number</th>\n",
              "      <th>Name</th>\n",
              "    </tr>\n",
              "  </thead>\n",
              "  <tbody>\n",
              "    <tr>\n",
              "      <th>0</th>\n",
              "      <td>NaN</td>\n",
              "      <td>NaN</td>\n",
              "      <td>NaN</td>\n",
              "    </tr>\n",
              "    <tr>\n",
              "      <th>1</th>\n",
              "      <td>36 m²</td>\n",
              "      <td>1025.0</td>\n",
              "      <td>Group 255 KIT</td>\n",
              "    </tr>\n",
              "    <tr>\n",
              "      <th>2</th>\n",
              "      <td>49 m²</td>\n",
              "      <td>1026.0</td>\n",
              "      <td>Group 255 LVR</td>\n",
              "    </tr>\n",
              "    <tr>\n",
              "      <th>3</th>\n",
              "      <td>28 m²</td>\n",
              "      <td>1027.0</td>\n",
              "      <td>Group 255 WC</td>\n",
              "    </tr>\n",
              "    <tr>\n",
              "      <th>4</th>\n",
              "      <td>31 m²</td>\n",
              "      <td>1028.0</td>\n",
              "      <td>Group 254 KIT</td>\n",
              "    </tr>\n",
              "    <tr>\n",
              "      <th>...</th>\n",
              "      <td>...</td>\n",
              "      <td>...</td>\n",
              "      <td>...</td>\n",
              "    </tr>\n",
              "    <tr>\n",
              "      <th>140</th>\n",
              "      <td>28 m²</td>\n",
              "      <td>1749.0</td>\n",
              "      <td>Group 14 KIT</td>\n",
              "    </tr>\n",
              "    <tr>\n",
              "      <th>141</th>\n",
              "      <td>15 m²</td>\n",
              "      <td>1750.0</td>\n",
              "      <td>Group 14 WC</td>\n",
              "    </tr>\n",
              "    <tr>\n",
              "      <th>142</th>\n",
              "      <td>35 m²</td>\n",
              "      <td>1751.0</td>\n",
              "      <td>Group 13 KIT</td>\n",
              "    </tr>\n",
              "    <tr>\n",
              "      <th>143</th>\n",
              "      <td>23 m²</td>\n",
              "      <td>1752.0</td>\n",
              "      <td>Group 13 LVR</td>\n",
              "    </tr>\n",
              "    <tr>\n",
              "      <th>144</th>\n",
              "      <td>54 m²</td>\n",
              "      <td>1753.0</td>\n",
              "      <td>Group 13 WC</td>\n",
              "    </tr>\n",
              "  </tbody>\n",
              "</table>\n",
              "<p>145 rows × 3 columns</p>\n",
              "</div>"
            ],
            "text/plain": [
              "      Area  Number           Name\n",
              "0      NaN     NaN            NaN\n",
              "1    36 m²  1025.0  Group 255 KIT\n",
              "2    49 m²  1026.0  Group 255 LVR\n",
              "3    28 m²  1027.0   Group 255 WC\n",
              "4    31 m²  1028.0  Group 254 KIT\n",
              "..     ...     ...            ...\n",
              "140  28 m²  1749.0   Group 14 KIT\n",
              "141  15 m²  1750.0    Group 14 WC\n",
              "142  35 m²  1751.0   Group 13 KIT\n",
              "143  23 m²  1752.0   Group 13 LVR\n",
              "144  54 m²  1753.0    Group 13 WC\n",
              "\n",
              "[145 rows x 3 columns]"
            ]
          },
          "metadata": {},
          "execution_count": 9
        }
      ]
    },
    {
      "cell_type": "code",
      "metadata": {
        "id": "5pR-w0X80qUr"
      },
      "source": [
        "#deleting NaN values\n",
        "\n",
        "room_data_0 = room_data_0.dropna()\n",
        "room_data_1 = room_data_1.dropna()\n",
        "room_data_2 = room_data_2.dropna()"
      ],
      "execution_count": null,
      "outputs": []
    },
    {
      "cell_type": "code",
      "metadata": {
        "id": "zbHGkV0q1EkB",
        "colab": {
          "base_uri": "https://localhost:8080/"
        },
        "outputId": "86cf315f-0f74-446b-dd6c-e7fb4192ccaa"
      },
      "source": [
        "#making the numbers of the layouts sequential and delete simplify layout names\n",
        "\n",
        "room_data_1 = room_data_1.assign (Name = room_data_1.Name.apply(lambda x: re.sub(r'Group \\d+', str(int(x.split()[1])+256), x)))\n",
        "room_data_2 = room_data_2.assign (Name = room_data_2.Name.apply(lambda x: re.sub(r'Group \\d+', str(int(x.split()[1])+512), x)))\n",
        "#simplify layout names\n",
        "\n",
        "room_data_0['Name'] = room_data_0['Name'].str.replace(r'Group ', '')"
      ],
      "execution_count": null,
      "outputs": [
        {
          "output_type": "stream",
          "name": "stderr",
          "text": [
            "/usr/local/lib/python3.7/dist-packages/ipykernel_launcher.py:7: SettingWithCopyWarning: \n",
            "A value is trying to be set on a copy of a slice from a DataFrame.\n",
            "Try using .loc[row_indexer,col_indexer] = value instead\n",
            "\n",
            "See the caveats in the documentation: https://pandas.pydata.org/pandas-docs/stable/user_guide/indexing.html#returning-a-view-versus-a-copy\n",
            "  import sys\n"
          ]
        }
      ]
    },
    {
      "cell_type": "code",
      "metadata": {
        "id": "vcUoXoYR2l2T"
      },
      "source": [
        "#filtering not useful columns\n",
        "\n",
        "room_data_0 = room_data_0.drop(\"Number\", axis=1)\n",
        "room_data_1 = room_data_1.drop(\"Number\", axis=1)\n",
        "room_data_2 = room_data_2.drop(\"Number\", axis=1)"
      ],
      "execution_count": null,
      "outputs": []
    },
    {
      "cell_type": "code",
      "metadata": {
        "colab": {
          "base_uri": "https://localhost:8080/",
          "height": 418
        },
        "id": "LbboxzqIgpaU",
        "outputId": "00a2b9ed-6b0d-4f06-f408-7c9dae0ccd18"
      },
      "source": [
        "room_data_1"
      ],
      "execution_count": null,
      "outputs": [
        {
          "output_type": "execute_result",
          "data": {
            "text/html": [
              "<div>\n",
              "<style scoped>\n",
              "    .dataframe tbody tr th:only-of-type {\n",
              "        vertical-align: middle;\n",
              "    }\n",
              "\n",
              "    .dataframe tbody tr th {\n",
              "        vertical-align: top;\n",
              "    }\n",
              "\n",
              "    .dataframe thead th {\n",
              "        text-align: right;\n",
              "    }\n",
              "</style>\n",
              "<table border=\"1\" class=\"dataframe\">\n",
              "  <thead>\n",
              "    <tr style=\"text-align: right;\">\n",
              "      <th></th>\n",
              "      <th>Area</th>\n",
              "      <th>Name</th>\n",
              "    </tr>\n",
              "  </thead>\n",
              "  <tbody>\n",
              "    <tr>\n",
              "      <th>1</th>\n",
              "      <td>36 m²</td>\n",
              "      <td>511 KIT</td>\n",
              "    </tr>\n",
              "    <tr>\n",
              "      <th>2</th>\n",
              "      <td>49 m²</td>\n",
              "      <td>511 LVR</td>\n",
              "    </tr>\n",
              "    <tr>\n",
              "      <th>3</th>\n",
              "      <td>28 m²</td>\n",
              "      <td>511 WC</td>\n",
              "    </tr>\n",
              "    <tr>\n",
              "      <th>4</th>\n",
              "      <td>31 m²</td>\n",
              "      <td>510 KIT</td>\n",
              "    </tr>\n",
              "    <tr>\n",
              "      <th>5</th>\n",
              "      <td>21 m²</td>\n",
              "      <td>510 LVR</td>\n",
              "    </tr>\n",
              "    <tr>\n",
              "      <th>...</th>\n",
              "      <td>...</td>\n",
              "      <td>...</td>\n",
              "    </tr>\n",
              "    <tr>\n",
              "      <th>140</th>\n",
              "      <td>28 m²</td>\n",
              "      <td>270 KIT</td>\n",
              "    </tr>\n",
              "    <tr>\n",
              "      <th>141</th>\n",
              "      <td>15 m²</td>\n",
              "      <td>270 WC</td>\n",
              "    </tr>\n",
              "    <tr>\n",
              "      <th>142</th>\n",
              "      <td>35 m²</td>\n",
              "      <td>269 KIT</td>\n",
              "    </tr>\n",
              "    <tr>\n",
              "      <th>143</th>\n",
              "      <td>23 m²</td>\n",
              "      <td>269 LVR</td>\n",
              "    </tr>\n",
              "    <tr>\n",
              "      <th>144</th>\n",
              "      <td>54 m²</td>\n",
              "      <td>269 WC</td>\n",
              "    </tr>\n",
              "  </tbody>\n",
              "</table>\n",
              "<p>144 rows × 2 columns</p>\n",
              "</div>"
            ],
            "text/plain": [
              "      Area     Name\n",
              "1    36 m²  511 KIT\n",
              "2    49 m²  511 LVR\n",
              "3    28 m²   511 WC\n",
              "4    31 m²  510 KIT\n",
              "5    21 m²  510 LVR\n",
              "..     ...      ...\n",
              "140  28 m²  270 KIT\n",
              "141  15 m²   270 WC\n",
              "142  35 m²  269 KIT\n",
              "143  23 m²  269 LVR\n",
              "144  54 m²   269 WC\n",
              "\n",
              "[144 rows x 2 columns]"
            ]
          },
          "metadata": {},
          "execution_count": 13
        }
      ]
    },
    {
      "cell_type": "code",
      "metadata": {
        "id": "-64C2yu66yls"
      },
      "source": [
        "#creating a list of three datasets\n",
        "\n",
        "room_data_list = [room_data_2, room_data_1, room_data_0 ]"
      ],
      "execution_count": null,
      "outputs": []
    },
    {
      "cell_type": "code",
      "metadata": {
        "id": "jeZpVoY56yTL"
      },
      "source": [
        "#merging list into one dataset\n",
        "\n",
        "room_dataT = pd.concat(room_data_list) "
      ],
      "execution_count": null,
      "outputs": []
    },
    {
      "cell_type": "code",
      "metadata": {
        "colab": {
          "base_uri": "https://localhost:8080/",
          "height": 418
        },
        "id": "TKGsHXuA7CO5",
        "outputId": "d1a872f4-a434-4340-fb57-d60146b348e7"
      },
      "source": [
        "room_dataT"
      ],
      "execution_count": null,
      "outputs": [
        {
          "output_type": "execute_result",
          "data": {
            "text/html": [
              "<div>\n",
              "<style scoped>\n",
              "    .dataframe tbody tr th:only-of-type {\n",
              "        vertical-align: middle;\n",
              "    }\n",
              "\n",
              "    .dataframe tbody tr th {\n",
              "        vertical-align: top;\n",
              "    }\n",
              "\n",
              "    .dataframe thead th {\n",
              "        text-align: right;\n",
              "    }\n",
              "</style>\n",
              "<table border=\"1\" class=\"dataframe\">\n",
              "  <thead>\n",
              "    <tr style=\"text-align: right;\">\n",
              "      <th></th>\n",
              "      <th>Area</th>\n",
              "      <th>Name</th>\n",
              "    </tr>\n",
              "  </thead>\n",
              "  <tbody>\n",
              "    <tr>\n",
              "      <th>1</th>\n",
              "      <td>32 m²</td>\n",
              "      <td>767 KIT</td>\n",
              "    </tr>\n",
              "    <tr>\n",
              "      <th>2</th>\n",
              "      <td>36 m²</td>\n",
              "      <td>767 NB1</td>\n",
              "    </tr>\n",
              "    <tr>\n",
              "      <th>3</th>\n",
              "      <td>21 m²</td>\n",
              "      <td>767 WC</td>\n",
              "    </tr>\n",
              "    <tr>\n",
              "      <th>4</th>\n",
              "      <td>21 m²</td>\n",
              "      <td>767 LVR</td>\n",
              "    </tr>\n",
              "    <tr>\n",
              "      <th>5</th>\n",
              "      <td>32 m²</td>\n",
              "      <td>766 NB2</td>\n",
              "    </tr>\n",
              "    <tr>\n",
              "      <th>...</th>\n",
              "      <td>...</td>\n",
              "      <td>...</td>\n",
              "    </tr>\n",
              "    <tr>\n",
              "      <th>1020</th>\n",
              "      <td>8 m²</td>\n",
              "      <td>1 LVR</td>\n",
              "    </tr>\n",
              "    <tr>\n",
              "      <th>1021</th>\n",
              "      <td>12 m²</td>\n",
              "      <td>0 NB1</td>\n",
              "    </tr>\n",
              "    <tr>\n",
              "      <th>1022</th>\n",
              "      <td>9 m²</td>\n",
              "      <td>0 KIT</td>\n",
              "    </tr>\n",
              "    <tr>\n",
              "      <th>1023</th>\n",
              "      <td>7 m²</td>\n",
              "      <td>0 LVR</td>\n",
              "    </tr>\n",
              "    <tr>\n",
              "      <th>1024</th>\n",
              "      <td>7 m²</td>\n",
              "      <td>0 WC</td>\n",
              "    </tr>\n",
              "  </tbody>\n",
              "</table>\n",
              "<p>2442 rows × 2 columns</p>\n",
              "</div>"
            ],
            "text/plain": [
              "       Area     Name\n",
              "1     32 m²  767 KIT\n",
              "2     36 m²  767 NB1\n",
              "3     21 m²   767 WC\n",
              "4     21 m²  767 LVR\n",
              "5     32 m²  766 NB2\n",
              "...     ...      ...\n",
              "1020   8 m²    1 LVR\n",
              "1021  12 m²    0 NB1\n",
              "1022   9 m²    0 KIT\n",
              "1023   7 m²    0 LVR\n",
              "1024   7 m²     0 WC\n",
              "\n",
              "[2442 rows x 2 columns]"
            ]
          },
          "metadata": {},
          "execution_count": 16
        }
      ]
    },
    {
      "cell_type": "code",
      "metadata": {
        "id": "0VOVhCFc6ojN"
      },
      "source": [
        "#simplifing data instances\n",
        "\n",
        "room_dataT['Area'] = room_dataT['Area'].str.replace(r' m²', '')"
      ],
      "execution_count": null,
      "outputs": []
    },
    {
      "cell_type": "code",
      "metadata": {
        "id": "CfiC-SW36o3D"
      },
      "source": [
        "#changing the order of columns\n",
        "\n",
        "room_dataT = room_dataT [['Name','Area']]"
      ],
      "execution_count": null,
      "outputs": []
    },
    {
      "cell_type": "code",
      "metadata": {
        "colab": {
          "base_uri": "https://localhost:8080/",
          "height": 418
        },
        "id": "n994widN7goA",
        "outputId": "9b94eac7-a253-4842-d6a9-b6224423b1ca"
      },
      "source": [
        "room_dataT"
      ],
      "execution_count": null,
      "outputs": [
        {
          "output_type": "execute_result",
          "data": {
            "text/html": [
              "<div>\n",
              "<style scoped>\n",
              "    .dataframe tbody tr th:only-of-type {\n",
              "        vertical-align: middle;\n",
              "    }\n",
              "\n",
              "    .dataframe tbody tr th {\n",
              "        vertical-align: top;\n",
              "    }\n",
              "\n",
              "    .dataframe thead th {\n",
              "        text-align: right;\n",
              "    }\n",
              "</style>\n",
              "<table border=\"1\" class=\"dataframe\">\n",
              "  <thead>\n",
              "    <tr style=\"text-align: right;\">\n",
              "      <th></th>\n",
              "      <th>Name</th>\n",
              "      <th>Area</th>\n",
              "    </tr>\n",
              "  </thead>\n",
              "  <tbody>\n",
              "    <tr>\n",
              "      <th>1</th>\n",
              "      <td>767 KIT</td>\n",
              "      <td>32</td>\n",
              "    </tr>\n",
              "    <tr>\n",
              "      <th>2</th>\n",
              "      <td>767 NB1</td>\n",
              "      <td>36</td>\n",
              "    </tr>\n",
              "    <tr>\n",
              "      <th>3</th>\n",
              "      <td>767 WC</td>\n",
              "      <td>21</td>\n",
              "    </tr>\n",
              "    <tr>\n",
              "      <th>4</th>\n",
              "      <td>767 LVR</td>\n",
              "      <td>21</td>\n",
              "    </tr>\n",
              "    <tr>\n",
              "      <th>5</th>\n",
              "      <td>766 NB2</td>\n",
              "      <td>32</td>\n",
              "    </tr>\n",
              "    <tr>\n",
              "      <th>...</th>\n",
              "      <td>...</td>\n",
              "      <td>...</td>\n",
              "    </tr>\n",
              "    <tr>\n",
              "      <th>1020</th>\n",
              "      <td>1 LVR</td>\n",
              "      <td>8</td>\n",
              "    </tr>\n",
              "    <tr>\n",
              "      <th>1021</th>\n",
              "      <td>0 NB1</td>\n",
              "      <td>12</td>\n",
              "    </tr>\n",
              "    <tr>\n",
              "      <th>1022</th>\n",
              "      <td>0 KIT</td>\n",
              "      <td>9</td>\n",
              "    </tr>\n",
              "    <tr>\n",
              "      <th>1023</th>\n",
              "      <td>0 LVR</td>\n",
              "      <td>7</td>\n",
              "    </tr>\n",
              "    <tr>\n",
              "      <th>1024</th>\n",
              "      <td>0 WC</td>\n",
              "      <td>7</td>\n",
              "    </tr>\n",
              "  </tbody>\n",
              "</table>\n",
              "<p>2442 rows × 2 columns</p>\n",
              "</div>"
            ],
            "text/plain": [
              "         Name Area\n",
              "1     767 KIT   32\n",
              "2     767 NB1   36\n",
              "3      767 WC   21\n",
              "4     767 LVR   21\n",
              "5     766 NB2   32\n",
              "...       ...  ...\n",
              "1020    1 LVR    8\n",
              "1021    0 NB1   12\n",
              "1022    0 KIT    9\n",
              "1023    0 LVR    7\n",
              "1024     0 WC    7\n",
              "\n",
              "[2442 rows x 2 columns]"
            ]
          },
          "metadata": {},
          "execution_count": 19
        }
      ]
    },
    {
      "cell_type": "code",
      "metadata": {
        "id": "RpXP8Rf76DpP"
      },
      "source": [
        "#saving as .csv file\n",
        "\n",
        "room_dataT.to_csv(\"/content/gdrive/My Drive/WorkingFiles/RoomData_Filtered.csv\")"
      ],
      "execution_count": null,
      "outputs": []
    }
  ]
}