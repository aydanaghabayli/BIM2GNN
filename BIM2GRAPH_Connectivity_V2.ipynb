{
  "nbformat": 4,
  "nbformat_minor": 0,
  "metadata": {
    "colab": {
      "name": "BIM2GRAPH_Connectivity_V2",
      "provenance": [],
      "authorship_tag": "ABX9TyPViA0X9WcR3/v8+4/l9gTU",
      "include_colab_link": true
    },
    "kernelspec": {
      "name": "python3",
      "display_name": "Python 3"
    },
    "language_info": {
      "name": "python"
    }
  },
  "cells": [
    {
      "cell_type": "markdown",
      "metadata": {
        "id": "view-in-github",
        "colab_type": "text"
      },
      "source": [
        "<a href=\"https://colab.research.google.com/github/aydanaghabayli/BIM2GNN/blob/main/BIM2GRAPH_Connectivity_V2.ipynb\" target=\"_parent\"><img src=\"https://colab.research.google.com/assets/colab-badge.svg\" alt=\"Open In Colab\"/></a>"
      ]
    },
    {
      "cell_type": "code",
      "metadata": {
        "id": "QyR5kX7V8Jj_"
      },
      "source": [
        "import os\n",
        "import pandas as pd\n",
        "import seaborn as sns\n",
        "import matplotlib.pyplot as plt\n",
        "import re"
      ],
      "execution_count": null,
      "outputs": []
    },
    {
      "cell_type": "code",
      "metadata": {
        "id": "cND-ZSu1EbWF"
      },
      "source": [
        "%matplotlib inline"
      ],
      "execution_count": null,
      "outputs": []
    },
    {
      "cell_type": "code",
      "metadata": {
        "colab": {
          "base_uri": "https://localhost:8080/"
        },
        "id": "hbB6HND78Pn5",
        "outputId": "e30ce305-7bb2-4231-88ea-486beda34e00"
      },
      "source": [
        "from google.colab import drive\n",
        "drive.mount('/content/gdrive')\n",
        "import os"
      ],
      "execution_count": null,
      "outputs": [
        {
          "output_type": "stream",
          "name": "stdout",
          "text": [
            "Drive already mounted at /content/gdrive; to attempt to forcibly remount, call drive.mount(\"/content/gdrive\", force_remount=True).\n"
          ]
        }
      ]
    },
    {
      "cell_type": "code",
      "metadata": {
        "id": "Q6kA9m2q8REG"
      },
      "source": [
        "os.chdir(\"/content/gdrive/My Drive/WorkingFiles\")"
      ],
      "execution_count": null,
      "outputs": []
    },
    {
      "cell_type": "code",
      "metadata": {
        "id": "YXxYBcj08Sy8"
      },
      "source": [
        "#importing .csv files\n",
        "\n",
        "door_data_0 = pd.read_csv(\"DoorSchedule4_V2.csv\", header=1)\n",
        "door_data_1 = pd.read_csv(\"DoorSchedule3_V2.csv\", header=1)\n",
        "door_data_2 = pd.read_csv(\"DoorSchedule5_V2.csv\", header=1)\n"
      ],
      "execution_count": null,
      "outputs": []
    },
    {
      "cell_type": "code",
      "metadata": {
        "id": "-E16rvndO8MP"
      },
      "source": [
        "#deleting non-useful columns\n",
        "\n",
        "door_data_0 = door_data_0.drop(['Type', 'Width'], axis=1)\n",
        "door_data_1 = door_data_1.drop(['Type', 'Width'], axis=1)\n",
        "door_data_2 = door_data_2.drop(['Type', 'Width'], axis=1)"
      ],
      "execution_count": null,
      "outputs": []
    },
    {
      "cell_type": "code",
      "metadata": {
        "id": "1DiFo5yFBw2r"
      },
      "source": [
        "#deleting null instances\n",
        "\n",
        "door_data_0 = door_data_0.dropna()\n",
        "door_data_1 = door_data_1.dropna()\n",
        "door_data_2 = door_data_1.dropna()"
      ],
      "execution_count": null,
      "outputs": []
    },
    {
      "cell_type": "code",
      "metadata": {
        "id": "LPWFX5-oC4mP"
      },
      "source": [
        "#renaming columns\n",
        "\n",
        "door_data_0 = door_data_0.rename(columns = {'From Room: Name': 'From', 'To Room: Name': 'To'}, inplace = False)\n",
        "door_data_1 = door_data_1.rename(columns = {'From Room: Name': 'From', 'To Room: Name': 'To'}, inplace = False)\n",
        "door_data_2 = door_data_2.rename(columns = {'From Room: Name': 'From', 'To Room: Name': 'To'}, inplace = False)"
      ],
      "execution_count": null,
      "outputs": []
    },
    {
      "cell_type": "code",
      "metadata": {
        "colab": {
          "base_uri": "https://localhost:8080/",
          "height": 418
        },
        "id": "LZ1qBBX_ExI3",
        "outputId": "6cbd25d3-453a-4939-f773-026065116f20"
      },
      "source": [
        "door_data_0"
      ],
      "execution_count": null,
      "outputs": [
        {
          "output_type": "execute_result",
          "data": {
            "text/html": [
              "<div>\n",
              "<style scoped>\n",
              "    .dataframe tbody tr th:only-of-type {\n",
              "        vertical-align: middle;\n",
              "    }\n",
              "\n",
              "    .dataframe tbody tr th {\n",
              "        vertical-align: top;\n",
              "    }\n",
              "\n",
              "    .dataframe thead th {\n",
              "        text-align: right;\n",
              "    }\n",
              "</style>\n",
              "<table border=\"1\" class=\"dataframe\">\n",
              "  <thead>\n",
              "    <tr style=\"text-align: right;\">\n",
              "      <th></th>\n",
              "      <th>From</th>\n",
              "      <th>To</th>\n",
              "    </tr>\n",
              "  </thead>\n",
              "  <tbody>\n",
              "    <tr>\n",
              "      <th>1</th>\n",
              "      <td>Group 0 WC</td>\n",
              "      <td>Group 0 LVR</td>\n",
              "    </tr>\n",
              "    <tr>\n",
              "      <th>2</th>\n",
              "      <td>Group 0 WC</td>\n",
              "      <td>Group 0 NB1</td>\n",
              "    </tr>\n",
              "    <tr>\n",
              "      <th>3</th>\n",
              "      <td>Group 0 NB1</td>\n",
              "      <td>Group 0 KIT</td>\n",
              "    </tr>\n",
              "    <tr>\n",
              "      <th>4</th>\n",
              "      <td>Group 0 KIT</td>\n",
              "      <td>Group 0 LVR</td>\n",
              "    </tr>\n",
              "    <tr>\n",
              "      <th>5</th>\n",
              "      <td>Group 1 NB1</td>\n",
              "      <td>Group 1 LVR</td>\n",
              "    </tr>\n",
              "    <tr>\n",
              "      <th>...</th>\n",
              "      <td>...</td>\n",
              "      <td>...</td>\n",
              "    </tr>\n",
              "    <tr>\n",
              "      <th>1055</th>\n",
              "      <td>Group 50 WC</td>\n",
              "      <td>Group 50 LVR</td>\n",
              "    </tr>\n",
              "    <tr>\n",
              "      <th>1056</th>\n",
              "      <td>Group 144 NB1</td>\n",
              "      <td>Group 144 KIT</td>\n",
              "    </tr>\n",
              "    <tr>\n",
              "      <th>1057</th>\n",
              "      <td>Group 144 NB1</td>\n",
              "      <td>Group 144 LVR</td>\n",
              "    </tr>\n",
              "    <tr>\n",
              "      <th>1058</th>\n",
              "      <td>Group 48 WC</td>\n",
              "      <td>Group 48 KIT</td>\n",
              "    </tr>\n",
              "    <tr>\n",
              "      <th>1059</th>\n",
              "      <td>Group 48 LVR</td>\n",
              "      <td>Group 48 WC</td>\n",
              "    </tr>\n",
              "  </tbody>\n",
              "</table>\n",
              "<p>1059 rows × 2 columns</p>\n",
              "</div>"
            ],
            "text/plain": [
              "               From             To\n",
              "1        Group 0 WC    Group 0 LVR\n",
              "2        Group 0 WC    Group 0 NB1\n",
              "3       Group 0 NB1    Group 0 KIT\n",
              "4       Group 0 KIT    Group 0 LVR\n",
              "5       Group 1 NB1    Group 1 LVR\n",
              "...             ...            ...\n",
              "1055    Group 50 WC   Group 50 LVR\n",
              "1056  Group 144 NB1  Group 144 KIT\n",
              "1057  Group 144 NB1  Group 144 LVR\n",
              "1058    Group 48 WC   Group 48 KIT\n",
              "1059   Group 48 LVR    Group 48 WC\n",
              "\n",
              "[1059 rows x 2 columns]"
            ]
          },
          "metadata": {},
          "execution_count": 15
        }
      ]
    },
    {
      "cell_type": "code",
      "metadata": {
        "id": "4pZUnydZDZ7r"
      },
      "source": [
        "#changing room numbers of 3 room group From column\n",
        "\n",
        "door_data_1 = door_data_1.assign (From = door_data_1.From.apply(lambda x: re.sub(r'Group \\d+', str(int(x.split()[1])+256), x)))"
      ],
      "execution_count": null,
      "outputs": []
    },
    {
      "cell_type": "code",
      "metadata": {
        "id": "2BgnDw9ZGNbo"
      },
      "source": [
        "#changing room numbers of 3 room group To column\n",
        "\n",
        "door_data_1 = door_data_1.assign (To = door_data_1.To.apply(lambda x: re.sub(r'Group \\d+', str(int(x.split()[1])+256), x)))"
      ],
      "execution_count": null,
      "outputs": []
    },
    {
      "cell_type": "code",
      "metadata": {
        "id": "LgMugTbwwigT"
      },
      "source": [
        "#changing room numbers of 5 room group From column\n",
        "\n",
        "door_data_2 = door_data_2.assign (From = door_data_2.From.apply(lambda x: re.sub(r'Group \\d+', str(int(x.split()[1])+512), x)))"
      ],
      "execution_count": null,
      "outputs": []
    },
    {
      "cell_type": "code",
      "metadata": {
        "id": "XCVcIiB2wnVO"
      },
      "source": [
        "#changing room numbers of 5 room group To column\n",
        "\n",
        "door_data_2 = door_data_2.assign (To = door_data_2.To.apply(lambda x: re.sub(r'Group \\d+', str(int(x.split()[1])+512), x)))"
      ],
      "execution_count": null,
      "outputs": []
    },
    {
      "cell_type": "code",
      "metadata": {
        "id": "01fwhYFQCILL"
      },
      "source": [
        "#simplifying room names 1st group\n",
        "\n",
        "door_data_0['From'] = door_data_0['From'].str.replace(r'Group ', '')\n",
        "door_data_0['To'] = door_data_0['To'].str.replace(r'Group ', '')\n",
        "\n"
      ],
      "execution_count": null,
      "outputs": []
    },
    {
      "cell_type": "code",
      "metadata": {
        "id": "lV1p8c1AghLO",
        "colab": {
          "base_uri": "https://localhost:8080/",
          "height": 418
        },
        "outputId": "ca93d0ac-5c92-415f-c2fd-4aa0809610ef"
      },
      "source": [
        "door_data_1"
      ],
      "execution_count": null,
      "outputs": [
        {
          "output_type": "execute_result",
          "data": {
            "text/html": [
              "<div>\n",
              "<style scoped>\n",
              "    .dataframe tbody tr th:only-of-type {\n",
              "        vertical-align: middle;\n",
              "    }\n",
              "\n",
              "    .dataframe tbody tr th {\n",
              "        vertical-align: top;\n",
              "    }\n",
              "\n",
              "    .dataframe thead th {\n",
              "        text-align: right;\n",
              "    }\n",
              "</style>\n",
              "<table border=\"1\" class=\"dataframe\">\n",
              "  <thead>\n",
              "    <tr style=\"text-align: right;\">\n",
              "      <th></th>\n",
              "      <th>From</th>\n",
              "      <th>To</th>\n",
              "    </tr>\n",
              "  </thead>\n",
              "  <tbody>\n",
              "    <tr>\n",
              "      <th>1</th>\n",
              "      <td>269 KIT</td>\n",
              "      <td>269 WC</td>\n",
              "    </tr>\n",
              "    <tr>\n",
              "      <th>2</th>\n",
              "      <td>269 WC</td>\n",
              "      <td>269 LVR</td>\n",
              "    </tr>\n",
              "    <tr>\n",
              "      <th>3</th>\n",
              "      <td>269 LVR</td>\n",
              "      <td>269 KIT</td>\n",
              "    </tr>\n",
              "    <tr>\n",
              "      <th>4</th>\n",
              "      <td>270 LVR</td>\n",
              "      <td>270 WC</td>\n",
              "    </tr>\n",
              "    <tr>\n",
              "      <th>5</th>\n",
              "      <td>270 KIT</td>\n",
              "      <td>270 LVR</td>\n",
              "    </tr>\n",
              "    <tr>\n",
              "      <th>...</th>\n",
              "      <td>...</td>\n",
              "      <td>...</td>\n",
              "    </tr>\n",
              "    <tr>\n",
              "      <th>105</th>\n",
              "      <td>509 WC</td>\n",
              "      <td>509 NB1</td>\n",
              "    </tr>\n",
              "    <tr>\n",
              "      <th>106</th>\n",
              "      <td>510 WC</td>\n",
              "      <td>510 LVR</td>\n",
              "    </tr>\n",
              "    <tr>\n",
              "      <th>107</th>\n",
              "      <td>510 LVR</td>\n",
              "      <td>510 KIT</td>\n",
              "    </tr>\n",
              "    <tr>\n",
              "      <th>108</th>\n",
              "      <td>511 WC</td>\n",
              "      <td>511 LVR</td>\n",
              "    </tr>\n",
              "    <tr>\n",
              "      <th>109</th>\n",
              "      <td>511 LVR</td>\n",
              "      <td>511 KIT</td>\n",
              "    </tr>\n",
              "  </tbody>\n",
              "</table>\n",
              "<p>109 rows × 2 columns</p>\n",
              "</div>"
            ],
            "text/plain": [
              "        From       To\n",
              "1    269 KIT   269 WC\n",
              "2     269 WC  269 LVR\n",
              "3    269 LVR  269 KIT\n",
              "4    270 LVR   270 WC\n",
              "5    270 KIT  270 LVR\n",
              "..       ...      ...\n",
              "105   509 WC  509 NB1\n",
              "106   510 WC  510 LVR\n",
              "107  510 LVR  510 KIT\n",
              "108   511 WC  511 LVR\n",
              "109  511 LVR  511 KIT\n",
              "\n",
              "[109 rows x 2 columns]"
            ]
          },
          "metadata": {},
          "execution_count": 21
        }
      ]
    },
    {
      "cell_type": "code",
      "metadata": {
        "id": "lvidvokoHlTe"
      },
      "source": [
        "#creating a list of three datasets\n",
        "\n",
        "door_data_list = [door_data_2, door_data_1, door_data_0]"
      ],
      "execution_count": null,
      "outputs": []
    },
    {
      "cell_type": "code",
      "metadata": {
        "id": "zmVhPN3ZHqJN"
      },
      "source": [
        "#merging list into one dataset\n",
        "\n",
        "door_dataT = pd.concat(door_data_list) "
      ],
      "execution_count": null,
      "outputs": []
    },
    {
      "cell_type": "code",
      "metadata": {
        "colab": {
          "base_uri": "https://localhost:8080/",
          "height": 418
        },
        "id": "xXBCf9yFHyu3",
        "outputId": "f0165b6a-dd7e-47a1-f77d-f02a03fda941"
      },
      "source": [
        "door_dataT"
      ],
      "execution_count": null,
      "outputs": [
        {
          "output_type": "execute_result",
          "data": {
            "text/html": [
              "<div>\n",
              "<style scoped>\n",
              "    .dataframe tbody tr th:only-of-type {\n",
              "        vertical-align: middle;\n",
              "    }\n",
              "\n",
              "    .dataframe tbody tr th {\n",
              "        vertical-align: top;\n",
              "    }\n",
              "\n",
              "    .dataframe thead th {\n",
              "        text-align: right;\n",
              "    }\n",
              "</style>\n",
              "<table border=\"1\" class=\"dataframe\">\n",
              "  <thead>\n",
              "    <tr style=\"text-align: right;\">\n",
              "      <th></th>\n",
              "      <th>From</th>\n",
              "      <th>To</th>\n",
              "    </tr>\n",
              "  </thead>\n",
              "  <tbody>\n",
              "    <tr>\n",
              "      <th>1</th>\n",
              "      <td>525 KIT</td>\n",
              "      <td>525 WC</td>\n",
              "    </tr>\n",
              "    <tr>\n",
              "      <th>2</th>\n",
              "      <td>525 WC</td>\n",
              "      <td>525 LVR</td>\n",
              "    </tr>\n",
              "    <tr>\n",
              "      <th>3</th>\n",
              "      <td>525 LVR</td>\n",
              "      <td>525 KIT</td>\n",
              "    </tr>\n",
              "    <tr>\n",
              "      <th>4</th>\n",
              "      <td>526 LVR</td>\n",
              "      <td>526 WC</td>\n",
              "    </tr>\n",
              "    <tr>\n",
              "      <th>5</th>\n",
              "      <td>526 KIT</td>\n",
              "      <td>526 LVR</td>\n",
              "    </tr>\n",
              "    <tr>\n",
              "      <th>...</th>\n",
              "      <td>...</td>\n",
              "      <td>...</td>\n",
              "    </tr>\n",
              "    <tr>\n",
              "      <th>1055</th>\n",
              "      <td>50 WC</td>\n",
              "      <td>50 LVR</td>\n",
              "    </tr>\n",
              "    <tr>\n",
              "      <th>1056</th>\n",
              "      <td>144 NB1</td>\n",
              "      <td>144 KIT</td>\n",
              "    </tr>\n",
              "    <tr>\n",
              "      <th>1057</th>\n",
              "      <td>144 NB1</td>\n",
              "      <td>144 LVR</td>\n",
              "    </tr>\n",
              "    <tr>\n",
              "      <th>1058</th>\n",
              "      <td>48 WC</td>\n",
              "      <td>48 KIT</td>\n",
              "    </tr>\n",
              "    <tr>\n",
              "      <th>1059</th>\n",
              "      <td>48 LVR</td>\n",
              "      <td>48 WC</td>\n",
              "    </tr>\n",
              "  </tbody>\n",
              "</table>\n",
              "<p>1277 rows × 2 columns</p>\n",
              "</div>"
            ],
            "text/plain": [
              "         From       To\n",
              "1     525 KIT   525 WC\n",
              "2      525 WC  525 LVR\n",
              "3     525 LVR  525 KIT\n",
              "4     526 LVR   526 WC\n",
              "5     526 KIT  526 LVR\n",
              "...       ...      ...\n",
              "1055    50 WC   50 LVR\n",
              "1056  144 NB1  144 KIT\n",
              "1057  144 NB1  144 LVR\n",
              "1058    48 WC   48 KIT\n",
              "1059   48 LVR    48 WC\n",
              "\n",
              "[1277 rows x 2 columns]"
            ]
          },
          "metadata": {},
          "execution_count": 24
        }
      ]
    },
    {
      "cell_type": "code",
      "metadata": {
        "id": "bq_NiHfcH4x2"
      },
      "source": [
        "#saving as .csv file\n",
        "\n",
        "door_dataT.to_csv(\"/content/gdrive/My Drive/WorkingFiles/DoorData_Filtered.csv\")"
      ],
      "execution_count": null,
      "outputs": []
    }
  ]
}