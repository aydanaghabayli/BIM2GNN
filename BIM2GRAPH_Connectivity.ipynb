{
  "nbformat": 4,
  "nbformat_minor": 0,
  "metadata": {
    "colab": {
      "name": "BIM2GRAPH_Connectivity",
      "provenance": [],
      "authorship_tag": "ABX9TyMRSTIIEjGzudEWk0HpLwfR",
      "include_colab_link": true
    },
    "kernelspec": {
      "name": "python3",
      "display_name": "Python 3"
    },
    "language_info": {
      "name": "python"
    }
  },
  "cells": [
    {
      "cell_type": "markdown",
      "metadata": {
        "id": "view-in-github",
        "colab_type": "text"
      },
      "source": [
        "<a href=\"https://colab.research.google.com/github/aydanaghabayli/BIM2GNN/blob/main/BIM2GRAPH_Connectivity.ipynb\" target=\"_parent\"><img src=\"https://colab.research.google.com/assets/colab-badge.svg\" alt=\"Open In Colab\"/></a>"
      ]
    },
    {
      "cell_type": "code",
      "metadata": {
        "id": "QyR5kX7V8Jj_"
      },
      "source": [
        "import os\n",
        "import pandas as pd\n",
        "import seaborn as sns\n",
        "import matplotlib.pyplot as plt\n",
        "import re"
      ],
      "execution_count": null,
      "outputs": []
    },
    {
      "cell_type": "code",
      "metadata": {
        "id": "cND-ZSu1EbWF"
      },
      "source": [
        "%matplotlib inline"
      ],
      "execution_count": null,
      "outputs": []
    },
    {
      "cell_type": "code",
      "metadata": {
        "colab": {
          "base_uri": "https://localhost:8080/"
        },
        "id": "hbB6HND78Pn5",
        "outputId": "4771c6cc-1000-4a5b-d829-ad53a75279a5"
      },
      "source": [
        "from google.colab import drive\n",
        "drive.mount('/content/gdrive')\n",
        "import os"
      ],
      "execution_count": null,
      "outputs": [
        {
          "output_type": "stream",
          "text": [
            "Drive already mounted at /content/gdrive; to attempt to forcibly remount, call drive.mount(\"/content/gdrive\", force_remount=True).\n"
          ],
          "name": "stdout"
        }
      ]
    },
    {
      "cell_type": "code",
      "metadata": {
        "id": "Q6kA9m2q8REG"
      },
      "source": [
        "os.chdir(\"/content/gdrive/My Drive/WorkingFiles\")"
      ],
      "execution_count": null,
      "outputs": []
    },
    {
      "cell_type": "code",
      "metadata": {
        "id": "YXxYBcj08Sy8"
      },
      "source": [
        "#importing .csv files\n",
        "\n",
        "door_data_1 = pd.read_csv(\"DoorSchedule.csv\")\n",
        "door_data_10x12 = pd.read_csv(\"Door Schedule_10x12.csv\", header=1)\n",
        "door_data_10x8 = pd.read_csv(\"Door Schedule_10x8.csv\", header=1)"
      ],
      "execution_count": null,
      "outputs": []
    },
    {
      "cell_type": "code",
      "metadata": {
        "id": "-E16rvndO8MP"
      },
      "source": [
        "#deleting non-useful columns\n",
        "\n",
        "door_data_1 = door_data_1.drop(['Type', 'Width'], axis=1)\n",
        "door_data_10x12 = door_data_10x12.drop(['Type', 'Width'], axis=1)\n",
        "door_data_10x8 = door_data_10x8.drop(['Type', 'Width'], axis=1)"
      ],
      "execution_count": null,
      "outputs": []
    },
    {
      "cell_type": "code",
      "metadata": {
        "id": "1DiFo5yFBw2r"
      },
      "source": [
        "#deleting null instanses\n",
        "\n",
        "door_data_1 = door_data_1.dropna()\n",
        "door_data_10x12 = door_data_10x12.dropna()\n",
        "door_data_10x8 = door_data_10x8.dropna()"
      ],
      "execution_count": null,
      "outputs": []
    },
    {
      "cell_type": "code",
      "metadata": {
        "id": "LPWFX5-oC4mP"
      },
      "source": [
        "#renaming columns\n",
        "\n",
        "door_data_1 = door_data_1.rename(columns = {'From Room: Name': 'From', 'To Room: Name': 'To'}, inplace = False)\n",
        "door_data_10x12 = door_data_10x12.rename(columns = {'From Room: Name': 'From', 'To Room: Name': 'To'}, inplace = False)\n",
        "door_data_10x8 = door_data_10x8.rename(columns = {'From Room: Name': 'From', 'To Room: Name': 'To'}, inplace = False)"
      ],
      "execution_count": null,
      "outputs": []
    },
    {
      "cell_type": "code",
      "metadata": {
        "colab": {
          "base_uri": "https://localhost:8080/",
          "height": 418
        },
        "id": "LZ1qBBX_ExI3",
        "outputId": "a22564ef-0c54-49df-c38c-38ac71aed3d0"
      },
      "source": [
        "door_data_10x12"
      ],
      "execution_count": null,
      "outputs": [
        {
          "output_type": "execute_result",
          "data": {
            "text/html": [
              "<div>\n",
              "<style scoped>\n",
              "    .dataframe tbody tr th:only-of-type {\n",
              "        vertical-align: middle;\n",
              "    }\n",
              "\n",
              "    .dataframe tbody tr th {\n",
              "        vertical-align: top;\n",
              "    }\n",
              "\n",
              "    .dataframe thead th {\n",
              "        text-align: right;\n",
              "    }\n",
              "</style>\n",
              "<table border=\"1\" class=\"dataframe\">\n",
              "  <thead>\n",
              "    <tr style=\"text-align: right;\">\n",
              "      <th></th>\n",
              "      <th>From</th>\n",
              "      <th>To</th>\n",
              "    </tr>\n",
              "  </thead>\n",
              "  <tbody>\n",
              "    <tr>\n",
              "      <th>1</th>\n",
              "      <td>Group 0 WC</td>\n",
              "      <td>Group 0 LVR</td>\n",
              "    </tr>\n",
              "    <tr>\n",
              "      <th>2</th>\n",
              "      <td>Group 0 WC</td>\n",
              "      <td>Group 0 NB1</td>\n",
              "    </tr>\n",
              "    <tr>\n",
              "      <th>3</th>\n",
              "      <td>Group 0 NB1</td>\n",
              "      <td>Group 0 KIT</td>\n",
              "    </tr>\n",
              "    <tr>\n",
              "      <th>4</th>\n",
              "      <td>Group 0 KIT</td>\n",
              "      <td>Group 0 LVR</td>\n",
              "    </tr>\n",
              "    <tr>\n",
              "      <th>5</th>\n",
              "      <td>Group 1 NB1</td>\n",
              "      <td>Group 1 LVR</td>\n",
              "    </tr>\n",
              "    <tr>\n",
              "      <th>...</th>\n",
              "      <td>...</td>\n",
              "      <td>...</td>\n",
              "    </tr>\n",
              "    <tr>\n",
              "      <th>1110</th>\n",
              "      <td>Group 50 WC</td>\n",
              "      <td>Group 50 LVR</td>\n",
              "    </tr>\n",
              "    <tr>\n",
              "      <th>1111</th>\n",
              "      <td>Group 144 NB1</td>\n",
              "      <td>Group 144 KIT</td>\n",
              "    </tr>\n",
              "    <tr>\n",
              "      <th>1112</th>\n",
              "      <td>Group 144 NB1</td>\n",
              "      <td>Group 144 LVR</td>\n",
              "    </tr>\n",
              "    <tr>\n",
              "      <th>1113</th>\n",
              "      <td>Group 48 WC</td>\n",
              "      <td>Group 48 KIT</td>\n",
              "    </tr>\n",
              "    <tr>\n",
              "      <th>1114</th>\n",
              "      <td>Group 48 LVR</td>\n",
              "      <td>Group 48 WC</td>\n",
              "    </tr>\n",
              "  </tbody>\n",
              "</table>\n",
              "<p>1114 rows × 2 columns</p>\n",
              "</div>"
            ],
            "text/plain": [
              "               From             To\n",
              "1        Group 0 WC    Group 0 LVR\n",
              "2        Group 0 WC    Group 0 NB1\n",
              "3       Group 0 NB1    Group 0 KIT\n",
              "4       Group 0 KIT    Group 0 LVR\n",
              "5       Group 1 NB1    Group 1 LVR\n",
              "...             ...            ...\n",
              "1110    Group 50 WC   Group 50 LVR\n",
              "1111  Group 144 NB1  Group 144 KIT\n",
              "1112  Group 144 NB1  Group 144 LVR\n",
              "1113    Group 48 WC   Group 48 KIT\n",
              "1114   Group 48 LVR    Group 48 WC\n",
              "\n",
              "[1114 rows x 2 columns]"
            ]
          },
          "metadata": {},
          "execution_count": 40
        }
      ]
    },
    {
      "cell_type": "code",
      "metadata": {
        "id": "4pZUnydZDZ7r"
      },
      "source": [
        "#changing room nombers of 10x8 group From column\n",
        "\n",
        "door_data_10x8 = door_data_10x8.assign (From = door_data_10x8.From.apply(lambda x: re.sub(r'Group \\d+', str(int(x.split()[1])+256), x)))"
      ],
      "execution_count": null,
      "outputs": []
    },
    {
      "cell_type": "code",
      "metadata": {
        "id": "2BgnDw9ZGNbo"
      },
      "source": [
        "#changing room nombers of 10x8 group To column\n",
        "\n",
        "door_data_10x8 = door_data_10x8.assign (To = door_data_10x8.To.apply(lambda x: re.sub(r'Group \\d+', str(int(x.split()[1])+256), x)))"
      ],
      "execution_count": null,
      "outputs": []
    },
    {
      "cell_type": "code",
      "metadata": {
        "id": "bWkZkyZsGOng"
      },
      "source": [
        "#changing room nombers of 10x12 group From column\n",
        "\n",
        "door_data_10x12 = door_data_10x12.assign (From = door_data_10x12.From.apply(lambda x: re.sub(r'Group \\d+', str(int(x.split()[1])+512), x)))"
      ],
      "execution_count": null,
      "outputs": []
    },
    {
      "cell_type": "code",
      "metadata": {
        "id": "3QpEwvVAG3oF"
      },
      "source": [
        "#changing room nombers of 10x12 group To column\n",
        "\n",
        "door_data_10x12 = door_data_10x12.assign (To = door_data_10x12.To.apply(lambda x: re.sub(r'Group \\d+', str(int(x.split()[1])+512), x)))"
      ],
      "execution_count": null,
      "outputs": []
    },
    {
      "cell_type": "code",
      "metadata": {
        "id": "01fwhYFQCILL"
      },
      "source": [
        "#simplifying room names 1st group\n",
        "\n",
        "door_data_1['From'] = door_data_1['From'].str.replace(r'Group ', '')\n",
        "door_data_1['To'] = door_data_1['To'].str.replace(r'Group ', '')\n",
        "\n"
      ],
      "execution_count": null,
      "outputs": []
    },
    {
      "cell_type": "code",
      "metadata": {
        "id": "lvidvokoHlTe"
      },
      "source": [
        "#creating a list of three datasets\n",
        "\n",
        "door_data_list = [door_data_10x12, door_data_10x8, door_data_1 ]"
      ],
      "execution_count": null,
      "outputs": []
    },
    {
      "cell_type": "code",
      "metadata": {
        "id": "zmVhPN3ZHqJN"
      },
      "source": [
        "#merging list into one dataset\n",
        "\n",
        "door_dataT = pd.concat(door_data_list) "
      ],
      "execution_count": null,
      "outputs": []
    },
    {
      "cell_type": "code",
      "metadata": {
        "colab": {
          "base_uri": "https://localhost:8080/",
          "height": 418
        },
        "id": "xXBCf9yFHyu3",
        "outputId": "0bf0e71d-2ab6-408c-f5ad-eeaea70ff61b"
      },
      "source": [
        "door_dataT"
      ],
      "execution_count": null,
      "outputs": [
        {
          "output_type": "execute_result",
          "data": {
            "text/html": [
              "<div>\n",
              "<style scoped>\n",
              "    .dataframe tbody tr th:only-of-type {\n",
              "        vertical-align: middle;\n",
              "    }\n",
              "\n",
              "    .dataframe tbody tr th {\n",
              "        vertical-align: top;\n",
              "    }\n",
              "\n",
              "    .dataframe thead th {\n",
              "        text-align: right;\n",
              "    }\n",
              "</style>\n",
              "<table border=\"1\" class=\"dataframe\">\n",
              "  <thead>\n",
              "    <tr style=\"text-align: right;\">\n",
              "      <th></th>\n",
              "      <th>From</th>\n",
              "      <th>To</th>\n",
              "    </tr>\n",
              "  </thead>\n",
              "  <tbody>\n",
              "    <tr>\n",
              "      <th>1</th>\n",
              "      <td>512 WC</td>\n",
              "      <td>512 LVR</td>\n",
              "    </tr>\n",
              "    <tr>\n",
              "      <th>2</th>\n",
              "      <td>512 WC</td>\n",
              "      <td>512 NB1</td>\n",
              "    </tr>\n",
              "    <tr>\n",
              "      <th>3</th>\n",
              "      <td>512 NB1</td>\n",
              "      <td>512 KIT</td>\n",
              "    </tr>\n",
              "    <tr>\n",
              "      <th>4</th>\n",
              "      <td>512 KIT</td>\n",
              "      <td>512 LVR</td>\n",
              "    </tr>\n",
              "    <tr>\n",
              "      <th>5</th>\n",
              "      <td>513 NB1</td>\n",
              "      <td>513 LVR</td>\n",
              "    </tr>\n",
              "    <tr>\n",
              "      <th>...</th>\n",
              "      <td>...</td>\n",
              "      <td>...</td>\n",
              "    </tr>\n",
              "    <tr>\n",
              "      <th>1110</th>\n",
              "      <td>50 WC</td>\n",
              "      <td>50 LVR</td>\n",
              "    </tr>\n",
              "    <tr>\n",
              "      <th>1111</th>\n",
              "      <td>144 NB1</td>\n",
              "      <td>144 KIT</td>\n",
              "    </tr>\n",
              "    <tr>\n",
              "      <th>1112</th>\n",
              "      <td>144 NB1</td>\n",
              "      <td>144 LVR</td>\n",
              "    </tr>\n",
              "    <tr>\n",
              "      <th>1113</th>\n",
              "      <td>48 WC</td>\n",
              "      <td>48 KIT</td>\n",
              "    </tr>\n",
              "    <tr>\n",
              "      <th>1114</th>\n",
              "      <td>48 LVR</td>\n",
              "      <td>48 WC</td>\n",
              "    </tr>\n",
              "  </tbody>\n",
              "</table>\n",
              "<p>3351 rows × 2 columns</p>\n",
              "</div>"
            ],
            "text/plain": [
              "         From       To\n",
              "1      512 WC  512 LVR\n",
              "2      512 WC  512 NB1\n",
              "3     512 NB1  512 KIT\n",
              "4     512 KIT  512 LVR\n",
              "5     513 NB1  513 LVR\n",
              "...       ...      ...\n",
              "1110    50 WC   50 LVR\n",
              "1111  144 NB1  144 KIT\n",
              "1112  144 NB1  144 LVR\n",
              "1113    48 WC   48 KIT\n",
              "1114   48 LVR    48 WC\n",
              "\n",
              "[3351 rows x 2 columns]"
            ]
          },
          "metadata": {},
          "execution_count": 52
        }
      ]
    },
    {
      "cell_type": "code",
      "metadata": {
        "id": "bq_NiHfcH4x2"
      },
      "source": [
        "#saving as .csv file\n",
        "\n",
        "door_dataT.to_csv(\"/content/gdrive/My Drive/WorkingFiles/DoorData_Filtered.csv\")"
      ],
      "execution_count": null,
      "outputs": []
    }
  ]
}